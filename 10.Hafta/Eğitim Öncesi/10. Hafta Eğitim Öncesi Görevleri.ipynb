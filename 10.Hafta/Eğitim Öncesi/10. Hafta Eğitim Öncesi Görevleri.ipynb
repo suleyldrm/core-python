{
 "cells": [
  {
   "attachments": {},
   "cell_type": "markdown",
   "metadata": {},
   "source": [
    "# Problem 1"
   ]
  },
  {
   "cell_type": "code",
   "execution_count": null,
   "metadata": {},
   "outputs": [],
   "source": [
    "# 1 - numpy kütüphanesini import edin\n",
    "import numpy as np\n",
    "# 2 - 0 ile 10 arasında 5 sayıdan oluşan matris üretin\n",
    "list=np.linspace(0,10,5)\n",
    "print(list)\n",
    "# 3 - matris'in boyutunu öğrenin\n",
    "boyut=list.shape()\n",
    "print(boyut)\n",
    "# 4 - matris'i yeniden boyutlandırın\n",
    "yeniBoyut=list.reshape(1,5)\n",
    "print(yeniBoyut)\n",
    "# 5 - matris'in boyut sayısını öğrenin\n",
    "boyutSayisi=list.ndim()\n",
    "print(boyutSayisi)"
   ]
  },
  {
   "attachments": {},
   "cell_type": "markdown",
   "metadata": {},
   "source": [
    "# Problem 2"
   ]
  },
  {
   "cell_type": "code",
   "execution_count": null,
   "metadata": {},
   "outputs": [],
   "source": [
    "import numpy as np\n",
    "# 1 - 0 ile 10 arasında bulunan tek sayılardan oluşan matris üretin\n",
    "matris=np.array([i for i in range(0,10) if i %2!=0])\n",
    "# 2 - Oluşturduğunuz matrisi parçalayın\n",
    "matris1,matris2=np.split(matris,[2])\n",
    "# 3 - Parçalanmış matrisleri birleştirin\n",
    "birlesim=np.concatenate(matris1 ,matris2)"
   ]
  },
  {
   "attachments": {},
   "cell_type": "markdown",
   "metadata": {},
   "source": [
    "# Problem 3"
   ]
  },
  {
   "cell_type": "code",
   "execution_count": null,
   "metadata": {},
   "outputs": [],
   "source": [
    "import numpy as np\n",
    "import random\n",
    "# 1 - 5 ile 100 arasında ikişer ikişer atlayarak rastgele 10 sayıdan oluşan matris üretin\n",
    "rastgeleMatris=np.random.choice(raneg(5,100,2),10)\n",
    "# 2 - matris'in özelliklerini inceleyin\n",
    "boyutSayisi=rastgeleMatris.ndim()\n",
    "elemanSayisi=rastgeleMatris.size()\n",
    "\n"
   ]
  }
 ],
 "metadata": {
  "kernelspec": {
   "display_name": "Python 3",
   "language": "python",
   "name": "python3"
  },
  "language_info": {
   "codemirror_mode": {
    "name": "ipython",
    "version": 3
   },
   "file_extension": ".py",
   "mimetype": "text/x-python",
   "name": "python",
   "nbconvert_exporter": "python",
   "pygments_lexer": "ipython3",
   "version": "3.12.3"
  },
  "orig_nbformat": 4,
  "vscode": {
   "interpreter": {
    "hash": "5026d2d6e7aaaaba093def813beadff083d8733e4a511af01735cbabd156995d"
   }
  }
 },
 "nbformat": 4,
 "nbformat_minor": 2
}
